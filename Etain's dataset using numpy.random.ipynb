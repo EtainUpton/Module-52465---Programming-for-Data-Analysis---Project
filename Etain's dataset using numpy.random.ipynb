{
 "cells": [
  {
   "cell_type": "markdown",
   "metadata": {},
   "source": [
    "‘Investigate the types of variables involved, their likely distributions, and their relationships with each other’ – how will I do this? Hopefully as I research I will stumble across an idea.\n",
    "\n",
    "‘Synthesise/simulate a data set as closely matching their properties as possible’ – I think this should be possible once I have completed some research and established some real data on the topic.\n",
    "\n",
    "‘Detail your research and implement the simulation in a Jupyter notebook – the data set itself can simply be displayed in an output cell within the notebook’ – having become familiar with Jupyter notebook in our last assignment for this module I feel confident that I should be able to complete this. I am hoping for some feedback on the assignment prior to handing in this project so I can implement the feedback here.\n",
    "\n",
    "I should research this phenomenon and see what types of real data has been collected on it, and then synthesise data for this project. I should use Python to model and synthesise such data.\n",
    "\n",
    "1.\tPhenomenon = the adoption of dogs or puppies from animal shelters.\n",
    "2.\tVariable = perhaps the breed of the dog/puppy.\n",
    "3.\tI should try to come up with the equivalent of the examples Ian has provided in the project example (number of hours study, number of logins to Moodle, previous qualifications), perhaps this could be compared to how well trained the dog is, the amount of previous owners the dog has had and how many times it has been placed for adoption by different owners, and age of the dog/puppy.\n",
    "\n",
    "I should investigate how these impact the likelihood of the dog/puppy being successfully adopted.\n"
   ]
  },
  {
   "cell_type": "markdown",
   "metadata": {},
   "source": [
    "##### Dr. Ian McLoughlin's example which I based my work on;\n",
    "The hours and grade variables will be non-negative real number with two decimal places, logins will be a non-zero integer and qual will be a categorical variable with four possible values: none, bachelors, masters, or phd. After some online research, I ﬁnd that full-time post-graduate students study on average four hours per week with a standard deviation of a quarter of an hour and that a normal distribution is an acceptable model of such a variable. Likewise, I investigate the other four variables, and I also look at the relationships between the variables. I devise an algorithm (or method) to generate such a data set, simulating values of the four variables for two-hundred students. I detail all this work in my notebook, and then I add some code in to generate a data set with those properties.\n",
    "\n",
    "##### Marking Scheme;\n",
    "\n",
    "25% Research Investigation of the data set as demonstrated by references, background information, and approach. \n",
    "\n",
    "25% Development Clear, well-written, and eﬃcient code with appropriate comments. \n",
    "\n",
    "25% Consistency Good planning and pragmatic attitude to work as evidenced by commit history. \n",
    "\n",
    "25% Documentation Concise descriptions and plots of variables in the data set.\n",
    "\n",
    "##### Advice for students; \n",
    "•\tYour git commit history should be extensive – I will try to ensure this.\n"
   ]
  },
  {
   "cell_type": "markdown",
   "metadata": {},
   "source": [
    "##### Brainstorming based on Dr. Ian McLoughlin's 27/11/2018:\n",
    "\n",
    "Performance of students studying a 10 credit module = successfully rehomed dogs in a shelter\n",
    "\n",
    "Variables;\n",
    "\n",
    "Grade = Successful rehoming/ non-successful rehoming\n",
    "\n",
    " - Hours = Breed of dog/puppy\n",
    "\n",
    " - Logins = amount of previous owners the dog has had / age of the dog/puppy\n",
    "\n",
    " - Qualifications = how well trained the dog is\n",
    "\n",
    "The 3 above variables should be closely related to the successful/non-successful rehoming of the dog."
   ]
  },
  {
   "cell_type": "markdown",
   "metadata": {},
   "source": [
    "After brainstorming the variables I realised some of the ideas I had come up with were not numbers (e.g. breed of dog/puppy). I decided to try allocating a figure to approximately 5 breeds, something like;\n",
    "\n",
    "1 – German Shepherd\n",
    "\n",
    "2 – Labrador\n",
    "\n",
    "3 – Collie\n",
    "\n",
    "4 – Greyhound\n",
    "\n",
    "5 – Mixed breed\n",
    "\n",
    "I will try this approach and see if it works.\n",
    "\n",
    "The same scenario occurs for another variable I had chosen – how well trained the dog is. I decided to allocate levels of training from 1 to 3;\n",
    "\n",
    "1 – Well trained\n",
    "\n",
    "2 – Somewhat trained\n",
    "\n",
    "3 – Not trained at all\n",
    "\n",
    "These are all non-negative real numbers."
   ]
  },
  {
   "cell_type": "markdown",
   "metadata": {},
   "source": [
    "*To do tomorrow 28/11/2018:*\n",
    "\n",
    "Now that I have a fair idea what real-world phenomenon I would like to simulate data for, I need to become more familiar with the numpy.random package which I will use to model and synthesise the data using Python."
   ]
  },
  {
   "cell_type": "markdown",
   "metadata": {},
   "source": [
    "*02/12/2018*\n",
    "\n",
    "At this point I had decided what I would like my data set to represent.\n",
    "\n",
    "To do: Model & synthesise the data using Python – numpy.random package.\n",
    "\n",
    "There should be at least one-hundred data points across four different variables.\n",
    "\n",
    "Create a synthesised data set.\n",
    "\n",
    "Devise an algorithm (or method) to generate my data set.\n",
    "\n",
    "Detail this work in my notebook.\n",
    "\n",
    "Add some code to generate a data set with those properties.\n",
    "\n",
    "Review the numpy.random package videos on Moodle.\n",
    "\n",
    "The the numpy.random package is used for generating random data in Python, which is exactly what I want to do.\n",
    "\n",
    "I reviewed the following videos;\n",
    "1.\tIntroduction to numpy.random\n",
    "2.\tIntroduction to numpy. I also checked out http://www.numpy.org/.\n",
    "3.\tSetting up the numpy.random repo\n",
    "\n",
    "*03.12.2018*\n",
    "I reviewed the following videos;\n",
    "4.\tSetting up the numpy.random repo\n",
    "5.\tNumpy.random docs\n",
    "6.\tRand function video\n",
    "7.\tDistributions video"
   ]
  },
  {
   "cell_type": "markdown",
   "metadata": {},
   "source": [
    "I initially thought that I would need to compile my synthesised data somewhere. I then realised that numpy.random will do this for me – it will generate arrays of numbers for me, so I don’t need to compose them myself.\n",
    "\n",
    "To launch jupyter notebook on my system I must; CMD > Anaconda Prompt > jupyter notebook"
   ]
  },
  {
   "cell_type": "markdown",
   "metadata": {},
   "source": [
    "I received the results of my assignment which I had completed for this module in November by email from Dr Ian McLoughlin on 04th December. \n",
    "I reviewed the constructive feedback carefully and tried to apply it to this project.\n",
    "\n",
    "### Dr. Ian McLoughlin’s feedback;\n",
    "\n",
    "- Research:\n",
    "\n",
    "Your submission was of a reasonable standard in this category.\n",
    "You might consider further developing the following in future submissions:\n",
    "Make sure to inform yourself of other people's approaches to problems like the one set out in the assignment brief. In your submission, you might summarise your findings and then make an informed decision as to your approach to the problem. You can provide evidence that you carried out this research by documenting it within your submission.\n",
    "Try to break the overall assignment into smaller components. Research each of these components, and then consider how they might fit together to provide an overall solution.\n",
    "\n",
    "- Development\n",
    "\n",
    "Your submission was of a reasonable standard in this category.\n",
    "You might consider further developing the following in future submissions:\n",
    "Make sure you demonstrate your competence in programming, including an ability to search, read and understand documentation.\n",
    "You code must work and files should be named appropriately with correct filename extensions.\n",
    "\n",
    "- Consistency\n",
    "\n",
    "Your submission was of a reasonable standard in this category.\n",
    "You might consider further developing the following in future submissions:\n",
    "Make sure you manage your own learning and development, including time management and organisational skills, and make this evident in your submissions.\n",
    "You should reflect on previous projects you have completed and have the foresight to see common potential issues coming down the tracks during your project.\n",
    "\n",
    "- Documentation\n",
    "\n",
    "Your submission was of a reasonable standard in this category.\n",
    "You might consider further developing the following in future submissions:\n",
    "Your documentation should provide descriptions and instructions for understanding your submission.\n",
    "All code should be commented. Usually each statement requires a comment and a preamble is required at the beginning of every file."
   ]
  },
  {
   "cell_type": "markdown",
   "metadata": {},
   "source": [
    "I was unsure which simple random data code to use for this purpose, so I researched some different options from https://docs.scipy.org/doc/numpy-1.15.1/reference/routines.random.html and decided that for my purposes and the dataset I wish to create, the following would be the most suitable; numpy.random.shuffle\n",
    "\n",
    "numpy.random.shuffle can be used to modify a sequence in-place by shuffling its contents.\n",
    "\n",
    "This function only shuffles the array along the first axis of a multi-dimensional array. The order of sub-arrays is changed but their contents remains the same (Reference: https://docs.scipy.org/doc/numpy-1.15.1/reference/generated/numpy.random.shuffle.html#numpy.random.shuffle)\n"
   ]
  },
  {
   "cell_type": "markdown",
   "metadata": {},
   "source": [
    "While reviewing the 'rand function' video on Moodle, I knew the example shown was exactly what I needed for this project. I visited the webpage https://docs.scipy.org/doc/numpy-1.15.1/reference/routines.random.html. In the video Dr. Ian McLoughlin mentioned that if you wish to generate random data for everyday purposes the ‘Simple random data’ section can be utilised. \n",
    "I selected 'rand' from the 'Simple random data' section. I decided to play around with the code provided in 'rand' and see whether this woud be suitable code for the purposes of this project."
   ]
  },
  {
   "cell_type": "code",
   "execution_count": 1,
   "metadata": {},
   "outputs": [
    {
     "ename": "NameError",
     "evalue": "name 'np' is not defined",
     "output_type": "error",
     "traceback": [
      "\u001b[1;31m---------------------------------------------------------------------------\u001b[0m",
      "\u001b[1;31mNameError\u001b[0m                                 Traceback (most recent call last)",
      "\u001b[1;32m<ipython-input-1-7e648c6a415b>\u001b[0m in \u001b[0;36m<module>\u001b[1;34m()\u001b[0m\n\u001b[1;32m----> 1\u001b[1;33m \u001b[0mnp\u001b[0m\u001b[1;33m.\u001b[0m\u001b[0mrandom\u001b[0m\u001b[1;33m.\u001b[0m\u001b[0mrand\u001b[0m\u001b[1;33m(\u001b[0m\u001b[1;36m3\u001b[0m\u001b[1;33m,\u001b[0m\u001b[1;36m2\u001b[0m\u001b[1;33m)\u001b[0m\u001b[1;33m\u001b[0m\u001b[0m\n\u001b[0m",
      "\u001b[1;31mNameError\u001b[0m: name 'np' is not defined"
     ]
    }
   ],
   "source": [
    "np.random.rand(3,2)\n"
   ]
  },
  {
   "cell_type": "markdown",
   "metadata": {},
   "source": [
    "The above error indicates I need to import the numpy package before I can use numpy. I followed Dr. Ian McLoughlin's guidance and inserted and ran the below code, followed by the 'rand' code;"
   ]
  },
  {
   "cell_type": "code",
   "execution_count": 2,
   "metadata": {},
   "outputs": [],
   "source": [
    "import numpy as np"
   ]
  },
  {
   "cell_type": "code",
   "execution_count": 3,
   "metadata": {},
   "outputs": [
    {
     "data": {
      "text/plain": [
       "array([[0.54623784, 0.9897952 ],\n",
       "       [0.59975932, 0.25249016],\n",
       "       [0.83709015, 0.98169146]])"
      ]
     },
     "execution_count": 3,
     "metadata": {},
     "output_type": "execute_result"
    }
   ],
   "source": [
    "np.random.rand(3,2)"
   ]
  },
  {
   "cell_type": "markdown",
   "metadata": {},
   "source": [
    "We can see that after I import the numpy package and run the code the error no longer appears."
   ]
  },
  {
   "cell_type": "code",
   "execution_count": 4,
   "metadata": {},
   "outputs": [],
   "source": [
    "import numpy as np"
   ]
  },
  {
   "cell_type": "code",
   "execution_count": 5,
   "metadata": {},
   "outputs": [
    {
     "data": {
      "text/plain": [
       "array([0.64612552, 0.86492938, 0.80634593, 0.71676204, 0.14416379,\n",
       "       0.12771556, 0.59059287, 0.13190038, 0.20472569, 0.55305608])"
      ]
     },
     "execution_count": 5,
     "metadata": {},
     "output_type": "execute_result"
    }
   ],
   "source": [
    "np.random.rand(10)"
   ]
  },
  {
   "cell_type": "markdown",
   "metadata": {},
   "source": [
    "Instead of (3,2), I tried the figure 10, as I want my dataset to represent whole numbers rather than numbers with decimal places."
   ]
  },
  {
   "cell_type": "markdown",
   "metadata": {},
   "source": [
    "Unfortunately, decimal numbers still appeared. "
   ]
  },
  {
   "cell_type": "markdown",
   "metadata": {},
   "source": [
    "How do I create rows and columns representing whole numbers which would fit my choices for the dataset I wish to create?"
   ]
  },
  {
   "cell_type": "markdown",
   "metadata": {},
   "source": [
    "I revisited the webpage https://docs.scipy.org/doc/numpy-1.15.1/reference/routines.random.html and researched the different options. I came accross one which I felt may fit my needs so I decided to try it out;"
   ]
  },
  {
   "cell_type": "code",
   "execution_count": 7,
   "metadata": {},
   "outputs": [
    {
     "data": {
      "text/plain": [
       "array([1, 0, 0, 0, 1, 1, 0, 0, 1, 1])"
      ]
     },
     "execution_count": 7,
     "metadata": {},
     "output_type": "execute_result"
    }
   ],
   "source": [
    "np.random.randint(2, size=10)"
   ]
  },
  {
   "cell_type": "markdown",
   "metadata": {},
   "source": [
    "This is known as 'numpy.random.randint' according to the webpage, and returns 'random integers from low (inclusive) to high (exclusive).' I decided to use this code."
   ]
  },
  {
   "cell_type": "code",
   "execution_count": 8,
   "metadata": {},
   "outputs": [
    {
     "data": {
      "text/plain": [
       "array([0, 1, 0, 0, 0, 1, 0, 0, 0, 1, 1, 0, 0, 0, 1, 1, 1, 0, 1, 0, 1, 0,\n",
       "       1, 1, 0, 1, 0, 0, 0, 1, 1, 1, 1, 1, 0, 0, 0, 1, 0, 0, 1, 0, 0, 0,\n",
       "       0, 0, 0, 1, 0, 1, 0, 1, 0, 0, 0, 0, 0, 1, 1, 0, 1, 0, 0, 1, 1, 0,\n",
       "       0, 1, 0, 1, 1, 0, 1, 1, 1, 1, 0, 0, 1, 0, 0, 0, 0, 0, 1, 0, 0, 0,\n",
       "       0, 1, 1, 1, 0, 0, 0, 0, 1, 0, 1, 1])"
      ]
     },
     "execution_count": 8,
     "metadata": {},
     "output_type": "execute_result"
    }
   ],
   "source": [
    "np.random.randint(2, size=100)"
   ]
  },
  {
   "cell_type": "markdown",
   "metadata": {},
   "source": [
    "However, I quickly realised it did not fit my purposes as shown when I tried out the above code with 100 replacing 10. It seemed it only produced figures 1 and 0, which would not be suitable for my dataset. I tried another code:"
   ]
  },
  {
   "cell_type": "code",
   "execution_count": 9,
   "metadata": {},
   "outputs": [
    {
     "data": {
      "text/plain": [
       "array([0, 0, 6, 5, 2, 2, 5, 3, 2, 2, 3, 1, 5, 1, 5, 5, 3, 6, 3, 4, 3, 6,\n",
       "       6, 6, 3, 4, 3, 0, 0, 4, 2, 3, 0, 1, 1, 0, 0, 3, 4, 3, 0, 5, 2, 1,\n",
       "       6, 3, 6, 6, 0, 3, 1, 0, 1, 6, 5, 2, 4, 1, 2, 2, 5, 4, 1, 6, 2, 2,\n",
       "       2, 3, 3, 3, 1, 3, 1, 2, 0, 1, 6, 3, 4, 0, 4, 4, 5, 5, 4, 4, 6, 4,\n",
       "       2, 1, 1, 0, 0, 3, 4, 3, 6, 4, 3, 5])"
      ]
     },
     "execution_count": 9,
     "metadata": {},
     "output_type": "execute_result"
    }
   ],
   "source": [
    "np.random.randint(7, size=100)"
   ]
  },
  {
   "cell_type": "markdown",
   "metadata": {},
   "source": [
    "I replaced 2 with 7, and the results were much more fitting, as shown above. I tested this out with one of my chosen variables – breed of dog;\n",
    "1 – German Shepherd\n",
    "2 – Labrador\n",
    "3 – Collie\n",
    "4 – Greyhound\n",
    "5 – Mixed breed\n",
    "\n",
    "5 breeds. \n"
   ]
  },
  {
   "cell_type": "code",
   "execution_count": 10,
   "metadata": {},
   "outputs": [
    {
     "data": {
      "text/plain": [
       "array([4, 4, 2, 4, 4, 3, 2, 1, 4, 1, 0, 3, 2, 3, 3, 1, 0, 1, 0, 4, 0, 2,\n",
       "       3, 3, 4, 0, 2, 3, 1, 3, 3, 3, 0, 4, 4, 2, 0, 4, 1, 4, 1, 2, 1, 1,\n",
       "       2, 0, 2, 1, 1, 2, 3, 3, 2, 3, 4, 2, 1, 2, 4, 4, 0, 4, 2, 2, 3, 2,\n",
       "       2, 2, 1, 0, 3, 1, 3, 1, 0, 1, 2, 3, 0, 4, 4, 3, 1, 4, 4, 2, 3, 0,\n",
       "       0, 0, 0, 3, 3, 4, 2, 3, 1, 0, 0, 2])"
      ]
     },
     "execution_count": 10,
     "metadata": {},
     "output_type": "execute_result"
    }
   ],
   "source": [
    "np.random.randint(5, size=100)"
   ]
  },
  {
   "cell_type": "markdown",
   "metadata": {},
   "source": [
    "I was not so happy with the first set of results - out of 100 dogs, 5 breeds, there are 20 greyhounds, 22 labradors, 21 collies, 18 german shepherds and no mixed breeeds. I counted the amount of times each figure appeared, and that's how I discovered how many of each breed of dog made up the total of 100 dogs. Not only was it unrealistic that there would be lots of pedigree dogs and no mixed breed dogs in a dog shelter for addoption, there were also 18 0's in the dataset, which I could not attribute to any of my 5 chosen breeds. I decided to play around with the code to try and rectify this;"
   ]
  },
  {
   "cell_type": "code",
   "execution_count": 11,
   "metadata": {},
   "outputs": [
    {
     "data": {
      "text/plain": [
       "array([2, 2, 2, 0, 0, 0, 2, 0, 1, 5, 4, 0, 0, 3, 1, 4, 3, 1, 1, 2, 5, 2,\n",
       "       1, 3, 5, 5, 4, 1, 5, 2, 5, 0, 4, 4, 2, 3, 5, 1, 1, 4, 2, 2, 4, 2,\n",
       "       3, 0, 0, 0, 3, 3, 1, 2, 2, 0, 2, 3, 1, 1, 3, 3, 3, 2, 5, 1, 5, 5,\n",
       "       1, 0, 3, 5, 4, 3, 4, 2, 1, 3, 5, 0, 2, 1, 2, 0, 4, 5, 2, 4, 2, 3,\n",
       "       5, 2, 0, 3, 5, 5, 2, 3, 5, 0, 5, 3])"
      ]
     },
     "execution_count": 11,
     "metadata": {},
     "output_type": "execute_result"
    }
   ],
   "source": [
    "np.random.randint(6, size=100)"
   ]
  },
  {
   "cell_type": "markdown",
   "metadata": {},
   "source": [
    "Although replacing the 5 with a 6 yielded more realistic results (there were 18 mixed breeds out of 100 dogs recorded using this code), there were still a lot of 0's which I wanted to eradicate. I decided instead to let 0 represent one of the breeds, and to stick with the original code. My new variables would be represented by; \n",
    "\n",
    "0 - German Shepherd \n",
    "\n",
    "1 - Labrador\n",
    "\n",
    "2 - Collie \n",
    "\n",
    "3 - Greyhound \n",
    "\n",
    "4 - Mixed breed;"
   ]
  },
  {
   "cell_type": "code",
   "execution_count": 12,
   "metadata": {},
   "outputs": [
    {
     "data": {
      "text/plain": [
       "array([2, 4, 4, 1, 4, 0, 3, 1, 1, 2, 3, 4, 4, 2, 4, 1, 3, 0, 1, 1, 4, 4,\n",
       "       1, 4, 4, 3, 0, 1, 3, 4, 0, 3, 3, 2, 1, 3, 3, 3, 4, 1, 2, 4, 4, 1,\n",
       "       3, 2, 2, 2, 0, 2, 0, 3, 1, 3, 3, 3, 3, 1, 2, 0, 2, 4, 1, 0, 4, 3,\n",
       "       0, 3, 4, 2, 1, 3, 4, 4, 0, 4, 0, 4, 4, 2, 0, 3, 0, 1, 0, 2, 0, 1,\n",
       "       2, 2, 3, 1, 0, 0, 2, 0, 0, 4, 1, 0])"
      ]
     },
     "execution_count": 12,
     "metadata": {},
     "output_type": "execute_result"
    }
   ],
   "source": [
    "np.random.randint(5, size=100)"
   ]
  },
  {
   "cell_type": "markdown",
   "metadata": {},
   "source": [
    "This ensured all 5 breeds were included. In my dataset of 100 dogs in total there are now;\n",
    "\n",
    "German shepherds (represented by the figure '0') - 20\n",
    "\n",
    "Labradors - (represented by the figure '1') - 19\n",
    "\n",
    "Collies - (represented by the figure '2') - 17\n",
    "\n",
    "Greyhounds - (represented by the figure '3') - 21\n",
    "\n",
    "Mixed breeds - (represented by the figure '4') - 23\n",
    "\n",
    "Total: 100\n",
    "\n",
    "These fgures coincidentally reflect the breeds fairly accurately based on the research I completed - greyhounds are the pure bred dog most likely to be surrendered to shelters, and there are always lots of mixed breeds.\n"
   ]
  },
  {
   "cell_type": "code",
   "execution_count": 13,
   "metadata": {},
   "outputs": [
    {
     "name": "stderr",
     "output_type": "stream",
     "text": [
      "'[Screenshot]' is not recognized as an internal or external command,\n",
      "operable program or batch file.\n"
     ]
    }
   ],
   "source": [
    "![Screenshot](GermanShepherd.jpg)"
   ]
  },
  {
   "cell_type": "code",
   "execution_count": 14,
   "metadata": {},
   "outputs": [
    {
     "name": "stderr",
     "output_type": "stream",
     "text": [
      "'[Image' is not recognized as an internal or external command,\n",
      "operable program or batch file.\n"
     ]
    }
   ],
   "source": [
    "![Image of German Shepherd](https://https://goo.gl/images/dYD6rc)"
   ]
  },
  {
   "cell_type": "code",
   "execution_count": 15,
   "metadata": {},
   "outputs": [
    {
     "name": "stderr",
     "output_type": "stream",
     "text": [
      "'[Image' is not recognized as an internal or external command,\n",
      "operable program or batch file.\n"
     ]
    }
   ],
   "source": [
    "![Image of German Shepherd](https://gfnc1kn6pi-flywheel.netdna-ssl.com/wp-content/uploads/2018/07/your-female-german-shepherd-SC-long.jpg)"
   ]
  },
  {
   "cell_type": "markdown",
   "metadata": {},
   "source": [
    "![Image of German Shepherd](https://gfnc1kn6pi-flywheel.netdna-ssl.com/wp-content/uploads/2018/07/your-female-german-shepherd-SC-long.jpg)"
   ]
  },
  {
   "cell_type": "markdown",
   "metadata": {},
   "source": [
    "As you can see from my failed attempts above I had some difficulty adding an image to this Jupyter notebook initially, I then ralised the cell needed to be a markdown cell as opposed to a code cell, and once I made this amendment the required image of a German Shepherd dog which I sourced on Google Images appeared correctly."
   ]
  },
  {
   "cell_type": "markdown",
   "metadata": {},
   "source": [
    "I knew I needed to generate information which could be attributed to the other variables. I decided to explore some other options starting with numpy.random.choice;"
   ]
  },
  {
   "cell_type": "code",
   "execution_count": 1,
   "metadata": {},
   "outputs": [
    {
     "ename": "NameError",
     "evalue": "name 'np' is not defined",
     "output_type": "error",
     "traceback": [
      "\u001b[1;31m---------------------------------------------------------------------------\u001b[0m",
      "\u001b[1;31mNameError\u001b[0m                                 Traceback (most recent call last)",
      "\u001b[1;32m<ipython-input-1-4888a75e978f>\u001b[0m in \u001b[0;36m<module>\u001b[1;34m()\u001b[0m\n\u001b[1;32m----> 1\u001b[1;33m \u001b[0mnp\u001b[0m\u001b[1;33m.\u001b[0m\u001b[0mrandom\u001b[0m\u001b[1;33m.\u001b[0m\u001b[0mchoice\u001b[0m \u001b[1;33m(\u001b[0m\u001b[1;36m5\u001b[0m\u001b[1;33m,\u001b[0m\u001b[1;36m3\u001b[0m\u001b[1;33m)\u001b[0m\u001b[1;33m\u001b[0m\u001b[0m\n\u001b[0m",
      "\u001b[1;31mNameError\u001b[0m: name 'np' is not defined"
     ]
    }
   ],
   "source": [
    "np.random.choice (5,3)"
   ]
  },
  {
   "cell_type": "code",
   "execution_count": 2,
   "metadata": {},
   "outputs": [],
   "source": [
    "import numpy as np"
   ]
  },
  {
   "cell_type": "code",
   "execution_count": 3,
   "metadata": {},
   "outputs": [
    {
     "data": {
      "text/plain": [
       "array([3, 2, 2])"
      ]
     },
     "execution_count": 3,
     "metadata": {},
     "output_type": "execute_result"
    }
   ],
   "source": [
    "np.random.choice (5,3)"
   ]
  },
  {
   "cell_type": "markdown",
   "metadata": {},
   "source": [
    "After running the above code I decided I could use this in relation to the variable I had chosen regarding the dog's levels of training from 1 to 3 (1 – Well trained, 2 – Somewhat trained, and 3 – Not trained at all). I knew I would need to use (3,5), 3 being the 3 different levels of training, and 5 being the 5 different dog breeds. I ran the code;"
   ]
  },
  {
   "cell_type": "code",
   "execution_count": 4,
   "metadata": {},
   "outputs": [
    {
     "data": {
      "text/plain": [
       "array([0, 1, 0, 0, 0])"
      ]
     },
     "execution_count": 4,
     "metadata": {},
     "output_type": "execute_result"
    }
   ],
   "source": [
    "np.random.choice (3, 5)"
   ]
  },
  {
   "cell_type": "markdown",
   "metadata": {},
   "source": [
    "The results above did not turn out how I anticipated, the figure 0 was one of the results, and I only wanted figure 1, 2 and 3 to be generated, so I decided to try something different;"
   ]
  },
  {
   "cell_type": "code",
   "execution_count": 5,
   "metadata": {},
   "outputs": [
    {
     "data": {
      "text/plain": [
       "array([1, 2, 0, 2, 3])"
      ]
     },
     "execution_count": 5,
     "metadata": {},
     "output_type": "execute_result"
    }
   ],
   "source": [
    "np.random.choice (4, 5)"
   ]
  },
  {
   "cell_type": "markdown",
   "metadata": {},
   "source": [
    "Still 0 was present. "
   ]
  },
  {
   "cell_type": "code",
   "execution_count": 6,
   "metadata": {},
   "outputs": [
    {
     "data": {
      "text/plain": [
       "array([3, 0, 0, 0, 2])"
      ]
     },
     "execution_count": 6,
     "metadata": {},
     "output_type": "execute_result"
    }
   ],
   "source": [
    "np.random.choice (5, 5)"
   ]
  },
  {
   "cell_type": "markdown",
   "metadata": {},
   "source": [
    "And again, 0 was present. I decided to change my original plan - instead of 1, 2 and 3 representing the dog's levels of training I decided to use 0, 1 and 2 (0 – Well trained, 1 – Somewhat trained, and 2 – Not trained at all). \n",
    "I ran the code;\n"
   ]
  },
  {
   "cell_type": "code",
   "execution_count": 7,
   "metadata": {},
   "outputs": [
    {
     "data": {
      "text/plain": [
       "array([2, 2, 1, 2, 1])"
      ]
     },
     "execution_count": 7,
     "metadata": {},
     "output_type": "execute_result"
    }
   ],
   "source": [
    "np.random.choice (3, 5)"
   ]
  },
  {
   "cell_type": "markdown",
   "metadata": {},
   "source": [
    "I decided to let the results represent the following;\n",
    "\n",
    "The first result represents the first breed of dog in the list (German shepherd) Training level: 2 - Not trained at all. This indicates one of the German shepherds is not trained at all.\n",
    "\n",
    "2 - Labrador - Not trained at all\n",
    "\n",
    "1 - Collie - Somewhat trained\n",
    "\n",
    "2 - Greyhound - Not trained at all\n",
    "\n",
    "1 - Mixed breed - Somewhat trained\n",
    "\n"
   ]
  },
  {
   "cell_type": "markdown",
   "metadata": {},
   "source": [
    "I needed to run a code which would synthesise the level of trainings per dog out of 100 dogs;"
   ]
  },
  {
   "cell_type": "code",
   "execution_count": 8,
   "metadata": {},
   "outputs": [
    {
     "data": {
      "text/plain": [
       "array([0, 0, 0, 2, 2, 2, 0, 1, 2, 0, 2, 1, 2, 1, 2, 0, 2, 0, 0, 0, 2, 1,\n",
       "       0, 0, 0, 0, 2, 2, 1, 2, 0, 2, 2, 0, 0, 1, 2, 0, 0, 1, 1, 1, 0, 2,\n",
       "       1, 2, 2, 1, 2, 2, 1, 2, 0, 2, 0, 2, 2, 0, 0, 0, 0, 2, 0, 1, 1, 2,\n",
       "       2, 2, 0, 0, 2, 0, 0, 0, 1, 1, 0, 1, 0, 1, 1, 1, 2, 2, 0, 1, 2, 2,\n",
       "       2, 2, 0, 0, 0, 2, 2, 0, 0, 0, 2, 0])"
      ]
     },
     "execution_count": 8,
     "metadata": {},
     "output_type": "execute_result"
    }
   ],
   "source": [
    "np.random.choice (3, 100)"
   ]
  },
  {
   "cell_type": "markdown",
   "metadata": {},
   "source": [
    "Dog 1 which is a German shepherd according to my first data set has a training level of 0 = Well trained.\n",
    "\n",
    "Based on my research it is likely that the pedigree dogs who are well trained are most likely to be adopted.\n"
   ]
  },
  {
   "cell_type": "markdown",
   "metadata": {},
   "source": [
    "##### To do:\t\n",
    "- 12.11.2018 – 18.11.2018: Review project video and instructions. Create repository and submit link. COMPLETED.\n",
    "\n",
    "- 19.11.2018 – 25.11.2018: Finish reviewing all videos. Review and adhere to marking scheme. COMPLETED.\n",
    "\n",
    "- 26.11.2018 – 02.12.2018: Commence project. Pick a phenomenon and research it. Create the dataset. COMPLETED.\n",
    "\n",
    "- 03.12.2018 – 09.12.2018: Complete project - COMPLETED.\n",
    "\n",
    "- 10.12.2018 – 13.12.2018: Submit project - COMPLETED.\n",
    "\n",
    "#### Minimum standard \n",
    "The minimum standard for this project is a git repository containing a README, a gitignore ﬁle and a Jupyter notebook. \n",
    "The README need only contain an explanation of what is contained in the repository and how to run the Jupyter notebook. \n",
    "Your notebook should contain the main body of work and should list all references used in completing the project. \n",
    "A good submission will be clearly organised and contain concise explanations of the particularities of the data set. \n",
    "The analysis contained within the notebook will be well conceived, interesting, and well researched. \n",
    "Note that part of this project is about the use of Jupyter notebooks and so you should make use of all the functionality available in the software including images, links, code and plots. \n",
    "You may use any Python libraries that you wish, whether they have been discussed in class or not.\n"
   ]
  },
  {
   "cell_type": "markdown",
   "metadata": {},
   "source": [
    "#### References\n",
    "\n",
    "- https://www.aspca.org\n",
    "- MADRA Website - http://www.madra.ie/\n",
    "- ISPCA Website - https://www.ispca.ie\n",
    "- Department of Environment, Community and Local Government Website –\n",
    "- https://www.thejournal.ie\n",
    "- https://www.irishtimes.com\n",
    "- Dog control report 2017\n",
    "- https://drcd.gov.ie\n",
    "- http://www.numpy.org/ \n",
    "- https://jupyter.readthedocs.io/en/latest/running.html#running\n",
    "- Docs.scipy.org/doc/numpy\n",
    "- Videos provided by Dr. Ian McLoughlin (Moodle)"
   ]
  },
  {
   "cell_type": "code",
   "execution_count": null,
   "metadata": {},
   "outputs": [],
   "source": []
  }
 ],
 "metadata": {
  "kernelspec": {
   "display_name": "Python 3",
   "language": "python",
   "name": "python3"
  },
  "language_info": {
   "codemirror_mode": {
    "name": "ipython",
    "version": 3
   },
   "file_extension": ".py",
   "mimetype": "text/x-python",
   "name": "python",
   "nbconvert_exporter": "python",
   "pygments_lexer": "ipython3",
   "version": "3.7.0"
  }
 },
 "nbformat": 4,
 "nbformat_minor": 2
}
